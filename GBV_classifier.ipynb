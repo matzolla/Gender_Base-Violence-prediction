{
  "nbformat": 4,
  "nbformat_minor": 0,
  "metadata": {
    "accelerator": "GPU",
    "colab": {
      "name": "GBV_classifier.ipynb",
      "provenance": []
    },
    "kernelspec": {
      "display_name": "Python 3",
      "name": "python3"
    },
    "language_info": {
      "name": "python"
    }
  },
  "cells": [
    {
      "cell_type": "code",
      "metadata": {
        "id": "G9LwNayfZJvP"
      },
      "source": [
        "#!wget --quiet https://raw.githubusercontent.com/tensorflow/models/master/official/nlp/bert/tokenization.py"
      ],
      "execution_count": null,
      "outputs": []
    },
    {
      "cell_type": "code",
      "metadata": {
        "id": "tmnQs6b-XPKx"
      },
      "source": [
        "#!pip install sentencepiece"
      ],
      "execution_count": null,
      "outputs": []
    },
    {
      "cell_type": "code",
      "metadata": {
        "id": "7otu9sjzXDVL"
      },
      "source": [
        "#import necessary packages\n",
        "import gc\n",
        "import re\n",
        "import string\n",
        "import operator\n",
        "from collections import defaultdict\n",
        "\n",
        "import numpy as np\n",
        "import pandas as pd\n",
        "pd.set_option('display.max_rows', 500)\n",
        "pd.set_option('display.max_columns', 500)\n",
        "pd.set_option('display.width', 1000)\n",
        "\n",
        "import matplotlib.pyplot as plt\n",
        "import seaborn as sns\n",
        "\n",
        "import tokenization\n",
        "from wordcloud import STOPWORDS\n",
        "\n",
        "import tensorflow as tf\n",
        "import tensorflow_hub as hub\n",
        "from tensorflow import keras\n",
        "from tensorflow.keras.optimizers import SGD, Adam\n",
        "from tensorflow.keras.layers import Dense, Input, Dropout, GlobalAveragePooling1D\n",
        "from tensorflow.keras.models import Model, Sequential\n",
        "from tensorflow.keras.callbacks import ModelCheckpoint, EarlyStopping, Callback\n",
        "\n",
        "SEED = 1337\n",
        "\n",
        "from sklearn.model_selection import StratifiedKFold, StratifiedShuffleSplit\n",
        "from sklearn.metrics import precision_score, recall_score, f1_score\n",
        "from sklearn.preprocessing import LabelEncoder,MultiLabelBinarizer"
      ],
      "execution_count": null,
      "outputs": []
    },
    {
      "cell_type": "code",
      "metadata": {
        "id": "5Vl1K13tMNAo"
      },
      "source": [
        "df_train=pd.read_csv('Train.csv')\n",
        "df_test=pd.read_csv('Test.csv')"
      ],
      "execution_count": null,
      "outputs": []
    },
    {
      "cell_type": "code",
      "metadata": {
        "colab": {
          "base_uri": "https://localhost:8080/",
          "height": 202
        },
        "id": "damvuPh4MXgr",
        "outputId": "196ea952-19f2-4874-e90d-c4bb5f743d0c"
      },
      "source": [
        "df_train.head()"
      ],
      "execution_count": null,
      "outputs": [
        {
          "output_type": "execute_result",
          "data": {
            "text/html": [
              "<div>\n",
              "<style scoped>\n",
              "    .dataframe tbody tr th:only-of-type {\n",
              "        vertical-align: middle;\n",
              "    }\n",
              "\n",
              "    .dataframe tbody tr th {\n",
              "        vertical-align: top;\n",
              "    }\n",
              "\n",
              "    .dataframe thead th {\n",
              "        text-align: right;\n",
              "    }\n",
              "</style>\n",
              "<table border=\"1\" class=\"dataframe\">\n",
              "  <thead>\n",
              "    <tr style=\"text-align: right;\">\n",
              "      <th></th>\n",
              "      <th>Tweet_ID</th>\n",
              "      <th>tweet</th>\n",
              "      <th>type</th>\n",
              "    </tr>\n",
              "  </thead>\n",
              "  <tbody>\n",
              "    <tr>\n",
              "      <th>0</th>\n",
              "      <td>ID_0022DWKP</td>\n",
              "      <td>Had a dream i got raped last night. By a guy i...</td>\n",
              "      <td>sexual_violence</td>\n",
              "    </tr>\n",
              "    <tr>\n",
              "      <th>1</th>\n",
              "      <td>ID_00395QYM</td>\n",
              "      <td>he thought the word raped means sex and told m...</td>\n",
              "      <td>sexual_violence</td>\n",
              "    </tr>\n",
              "    <tr>\n",
              "      <th>2</th>\n",
              "      <td>ID_003EOSSF</td>\n",
              "      <td>She NOT TALKING TO ME I WAS RAPED BY 2 MEN 1 M...</td>\n",
              "      <td>sexual_violence</td>\n",
              "    </tr>\n",
              "    <tr>\n",
              "      <th>3</th>\n",
              "      <td>ID_004BBHOD</td>\n",
              "      <td>I was sexually abused for 3 years at age 4 to ...</td>\n",
              "      <td>sexual_violence</td>\n",
              "    </tr>\n",
              "    <tr>\n",
              "      <th>4</th>\n",
              "      <td>ID_004F7516</td>\n",
              "      <td>Chessy Prout can do better by telling the trut...</td>\n",
              "      <td>sexual_violence</td>\n",
              "    </tr>\n",
              "  </tbody>\n",
              "</table>\n",
              "</div>"
            ],
            "text/plain": [
              "      Tweet_ID                                              tweet             type\n",
              "0  ID_0022DWKP  Had a dream i got raped last night. By a guy i...  sexual_violence\n",
              "1  ID_00395QYM  he thought the word raped means sex and told m...  sexual_violence\n",
              "2  ID_003EOSSF  She NOT TALKING TO ME I WAS RAPED BY 2 MEN 1 M...  sexual_violence\n",
              "3  ID_004BBHOD  I was sexually abused for 3 years at age 4 to ...  sexual_violence\n",
              "4  ID_004F7516  Chessy Prout can do better by telling the trut...  sexual_violence"
            ]
          },
          "metadata": {
            "tags": []
          },
          "execution_count": 8
        }
      ]
    },
    {
      "cell_type": "code",
      "metadata": {
        "id": "pAb0nn8EM_vD"
      },
      "source": [
        "#creating meta-features\n",
        "# word_count\n",
        "df_train['word_count'] = df_train['tweet'].apply(lambda x: len(str(x).split()))\n",
        "df_test['word_count'] = df_test['tweet'].apply(lambda x: len(str(x).split()))\n",
        "\n",
        "# unique_word_count\n",
        "df_train['unique_word_count'] = df_train['tweet'].apply(lambda x: len(set(str(x).split())))\n",
        "df_test['unique_word_count'] = df_test['tweet'].apply(lambda x: len(set(str(x).split())))\n",
        "\n",
        "# stop_word_count\n",
        "df_train['stop_word_count'] = df_train['tweet'].apply(lambda x: len([w for w in str(x).lower().split() if w in STOPWORDS]))\n",
        "df_test['stop_word_count'] = df_test['tweet'].apply(lambda x: len([w for w in str(x).lower().split() if w in STOPWORDS]))\n"
      ],
      "execution_count": null,
      "outputs": []
    },
    {
      "cell_type": "code",
      "metadata": {
        "id": "eHEubk-fYCC2"
      },
      "source": [
        "# url_count\n",
        "df_train['url_count'] = df_train['tweet'].apply(lambda x: len([w for w in str(x).lower().split() if 'http' in w or 'https' in w]))\n",
        "df_test['url_count'] = df_test['tweet'].apply(lambda x: len([w for w in str(x).lower().split() if 'http' in w or 'https' in w]))\n",
        "\n",
        "# mean_word_length\n",
        "df_train['mean_word_length'] = df_train['tweet'].apply(lambda x: np.mean([len(w) for w in str(x).split()]))\n",
        "df_test['mean_word_length'] = df_test['tweet'].apply(lambda x: np.mean([len(w) for w in str(x).split()]))\n",
        "\n",
        "# char_count\n",
        "df_train['char_count'] = df_train['tweet'].apply(lambda x: len(str(x)))\n",
        "df_test['char_count'] = df_test['tweet'].apply(lambda x: len(str(x)))"
      ],
      "execution_count": null,
      "outputs": []
    },
    {
      "cell_type": "code",
      "metadata": {
        "id": "O9LlhJMPYMwH"
      },
      "source": [
        "# punctuation_count\n",
        "df_train['punctuation_count'] = df_train['tweet'].apply(lambda x: len([c for c in str(x) if c in string.punctuation]))\n",
        "df_test['punctuation_count'] = df_test['tweet'].apply(lambda x: len([c for c in str(x) if c in string.punctuation]))"
      ],
      "execution_count": null,
      "outputs": []
    },
    {
      "cell_type": "code",
      "metadata": {
        "id": "_SgtWVuP9YHF"
      },
      "source": [
        "le=LabelEncoder()\n",
        "df_train['type']=le.fit_transform(df_train['type'])"
      ],
      "execution_count": null,
      "outputs": []
    },
    {
      "cell_type": "code",
      "metadata": {
        "colab": {
          "base_uri": "https://localhost:8080/"
        },
        "id": "3i2UlVcn9tlE",
        "outputId": "44a30ed8-16e1-4d14-9ede-fc0225ddd93f"
      },
      "source": [
        "df_train.type.value_counts()"
      ],
      "execution_count": null,
      "outputs": [
        {
          "output_type": "execute_result",
          "data": {
            "text/plain": [
              "4    32648\n",
              "1     5946\n",
              "3      651\n",
              "2      217\n",
              "0      188\n",
              "Name: type, dtype: int64"
            ]
          },
          "metadata": {
            "tags": []
          },
          "execution_count": 13
        }
      ]
    },
    {
      "cell_type": "code",
      "metadata": {
        "id": "NUzVS89hb10N"
      },
      "source": [
        "## text cleaning\n",
        "def clean(tweet): \n",
        "    # Character entity references\n",
        "    tweet = re.sub(r\"&gt;\", \">\", tweet)\n",
        "    tweet = re.sub(r\"&lt;\", \"<\", tweet)\n",
        "    tweet = re.sub(r\"&amp;\", \"&\", tweet)\n",
        "    # Urls\n",
        "    tweet = re.sub(r\"https?:\\/\\/t.co\\/[A-Za-z0-9]+\", \"\", tweet)\n",
        "        \n",
        "    # Words with punctuations and special characters\n",
        "    punctuations = '@#!?+&*[]-%.:/();$=><|{}^' + \"'`\"\n",
        "    for p in punctuations:\n",
        "        tweet = tweet.replace(p, f' {p} ')\n",
        "        \n",
        "    # ... and ..\n",
        "    tweet = tweet.replace('...', ' ... ')\n",
        "    if '...' not in tweet:\n",
        "        tweet = tweet.replace('..', ' ... ')      \n",
        "        \n",
        "    # Acronyms\n",
        "    tweet = re.sub(r\"MH370\", \"Malaysia Airlines Flight 370\", tweet)\n",
        "    tweet = re.sub(r\"mÌ¼sica\", \"music\", tweet)\n",
        "    tweet = re.sub(r\"okwx\", \"Oklahoma City Weather\", tweet)\n",
        "    tweet = re.sub(r\"arwx\", \"Arkansas Weather\", tweet)    \n",
        "    tweet = re.sub(r\"gawx\", \"Georgia Weather\", tweet)  \n",
        "    tweet = re.sub(r\"scwx\", \"South Carolina Weather\", tweet)  \n",
        "    tweet = re.sub(r\"cawx\", \"California Weather\", tweet)\n",
        "    tweet = re.sub(r\"tnwx\", \"Tennessee Weather\", tweet)\n",
        "    tweet = re.sub(r\"azwx\", \"Arizona Weather\", tweet)  \n",
        "    tweet = re.sub(r\"alwx\", \"Alabama Weather\", tweet)\n",
        "    tweet = re.sub(r\"wordpressdotcom\", \"wordpress\", tweet)    \n",
        "    tweet = re.sub(r\"usNWSgov\", \"United States National Weather Service\", tweet)\n",
        "    tweet = re.sub(r\"Suruc\", \"Sanliurfa\", tweet)   \n",
        "    \n",
        "    # Grouping same words without embeddings\n",
        "    tweet = re.sub(r\"Bestnaijamade\", \"bestnaijamade\", tweet)\n",
        "    tweet = re.sub(r\"SOUDELOR\", \"Soudelor\", tweet)\n",
        "    \n",
        "    return tweet"
      ],
      "execution_count": null,
      "outputs": []
    },
    {
      "cell_type": "code",
      "metadata": {
        "id": "watskTt4fTL7"
      },
      "source": [
        "df_train['tweet_cleaned'] = df_train['tweet'].apply(lambda s : clean(s))\n",
        "df_test['tweet_cleaned'] = df_test['tweet'].apply(lambda s : clean(s))"
      ],
      "execution_count": null,
      "outputs": []
    },
    {
      "cell_type": "code",
      "metadata": {
        "colab": {
          "base_uri": "https://localhost:8080/"
        },
        "id": "lVG2qqLcl--y",
        "outputId": "6ccdb529-275c-400a-ca2d-243641a44daf"
      },
      "source": [
        "%%time\n",
        "bert_layer = hub.KerasLayer('https://tfhub.dev/tensorflow/bert_en_uncased_L-12_H-768_A-12/1', trainable=True)"
      ],
      "execution_count": null,
      "outputs": [
        {
          "output_type": "stream",
          "text": [
            "CPU times: user 9.55 s, sys: 1.97 s, total: 11.5 s\n",
            "Wall time: 16.5 s\n"
          ],
          "name": "stdout"
        }
      ]
    },
    {
      "cell_type": "code",
      "metadata": {
        "id": "M9NashKdmYYM"
      },
      "source": [
        "class ClassificationReport(Callback):\n",
        "    \n",
        "    def __init__(self, train_data=(), validation_data=()):\n",
        "        super(Callback, self).__init__()\n",
        "        \n",
        "        self.X_train, self.y_train = train_data\n",
        "        self.train_precision_scores = []\n",
        "        self.train_recall_scores = []\n",
        "        self.train_f1_scores = []\n",
        "        \n",
        "        self.X_val, self.y_val = validation_data\n",
        "        self.val_precision_scores = []\n",
        "        self.val_recall_scores = []\n",
        "        self.val_f1_scores = [] \n",
        "               \n",
        "    def on_epoch_end(self, epoch, logs={}):\n",
        "        train_predictions = np.round(self.model.predict(self.X_train, verbose=0))        \n",
        "        train_precision = precision_score(self.y_train, train_predictions, average='weighted')\n",
        "        train_recall = recall_score(self.y_train, train_predictions, average='weighted')\n",
        "        train_f1 = f1_score(self.y_train, train_predictions, average='weighted')\n",
        "        self.train_precision_scores.append(train_precision)        \n",
        "        self.train_recall_scores.append(train_recall)\n",
        "        self.train_f1_scores.append(train_f1)\n",
        "        \n",
        "        val_predictions = np.round(self.model.predict(self.X_val, verbose=0))\n",
        "        val_precision = precision_score(self.y_val, val_predictions, average='weighted')\n",
        "        val_recall = recall_score(self.y_val, val_predictions, average='weighted')\n",
        "        val_f1 = f1_score(self.y_val, val_predictions, average='weighted')\n",
        "        self.val_precision_scores.append(val_precision)        \n",
        "        self.val_recall_scores.append(val_recall)        \n",
        "        self.val_f1_scores.append(val_f1)\n",
        "        \n",
        "        print('\\nEpoch: {} - Training Precision: {:.6} - Training Recall: {:.6} - Training F1: {:.6}'.format(epoch + 1, train_precision, train_recall, train_f1))\n",
        "        print('Epoch: {} - Validation Precision: {:.6} - Validation Recall: {:.6} - Validation F1: {:.6}'.format(epoch + 1, val_precision, val_recall, val_f1))  "
      ],
      "execution_count": null,
      "outputs": []
    },
    {
      "cell_type": "code",
      "metadata": {
        "id": "IGfHjNDziWBL"
      },
      "source": [
        "#the model\n",
        "class GBVDetector:\n",
        "    \n",
        "    def __init__(self, bert_layer, max_seq_length=128, lr=0.0001, epochs=15, batch_size=32):\n",
        "        \n",
        "        # BERT and Tokenization params\n",
        "        self.bert_layer = bert_layer\n",
        "        \n",
        "        self.max_seq_length = max_seq_length        \n",
        "        vocab_file = self.bert_layer.resolved_object.vocab_file.asset_path.numpy()\n",
        "        do_lower_case = self.bert_layer.resolved_object.do_lower_case.numpy()\n",
        "        self.tokenizer = tokenization.FullTokenizer(vocab_file, do_lower_case)\n",
        "        \n",
        "        # Learning control params\n",
        "        self.lr = lr\n",
        "        self.epochs = epochs\n",
        "        self.batch_size = batch_size\n",
        "        \n",
        "        self.models = []\n",
        "        self.scores = {}\n",
        "        \n",
        "        \n",
        "    def encode(self, texts):\n",
        "                \n",
        "        all_tokens = []\n",
        "        all_masks = []\n",
        "        all_segments = []\n",
        "\n",
        "        for text in texts:\n",
        "            text = self.tokenizer.tokenize(text)\n",
        "            text = text[:self.max_seq_length - 2]\n",
        "            input_sequence = ['[CLS]'] + text + ['[SEP]']\n",
        "            pad_len = self.max_seq_length - len(input_sequence)\n",
        "\n",
        "            tokens = self.tokenizer.convert_tokens_to_ids(input_sequence)\n",
        "            tokens += [0] * pad_len\n",
        "            pad_masks = [1] * len(input_sequence) + [0] * pad_len\n",
        "            segment_ids = [0] * self.max_seq_length\n",
        "\n",
        "            all_tokens.append(tokens)\n",
        "            all_masks.append(pad_masks)\n",
        "            all_segments.append(segment_ids)\n",
        "\n",
        "        return np.array(all_tokens), np.array(all_masks), np.array(all_segments)\n",
        "    \n",
        "    \n",
        "    def build_model(self):\n",
        "        \n",
        "        input_word_ids = Input(shape=(self.max_seq_length,), dtype=tf.int32, name='input_word_ids')\n",
        "        input_mask = Input(shape=(self.max_seq_length,), dtype=tf.int32, name='input_mask')\n",
        "        segment_ids = Input(shape=(self.max_seq_length,), dtype=tf.int32, name='segment_ids')    \n",
        "        \n",
        "        pooled_output, sequence_output = self.bert_layer([input_word_ids, input_mask, segment_ids])   \n",
        "        clf_output = sequence_output[:, 0, :]\n",
        "        out = Dense(5, activation='sigmoid')(clf_output)\n",
        "        \n",
        "        model = Model(inputs=[input_word_ids, input_mask, segment_ids], outputs=out)\n",
        "        optimizer = SGD(learning_rate=self.lr, momentum=0.8)\n",
        "        model.compile(loss='sparse_categorical_crossentropy', optimizer=optimizer, metrics=['accuracy'])\n",
        "        \n",
        "        return model\n",
        "    \n",
        "    \n",
        "    def train(self, X):\n",
        "\n",
        "        skf=StratifiedKFold(n_splits=5)\n",
        "        for fold, (trn_idx, val_idx) in enumerate(skf.split(X['tweet_cleaned'], X['type'])):\n",
        "            \n",
        "            print('\\nFold {}\\n'.format(fold))\n",
        "        \n",
        "            X_trn_encoded = self.encode(X.loc[trn_idx, 'tweet_cleaned'].str.lower())\n",
        "            y_trn = X.loc[trn_idx, 'type']\n",
        "            X_val_encoded = self.encode(X.loc[val_idx, 'tweet_cleaned'].str.lower())\n",
        "            y_val = X.loc[val_idx, 'type']\n",
        "        \n",
        "            # Callbacks\n",
        "            #metrics = ClassificationReport(train_data=(X_trn_encoded, y_trn), validation_data=(X_val_encoded, y_val))\n",
        "            \n",
        "            # Model\n",
        "            model = self.build_model()        \n",
        "            model.fit(X_trn_encoded, y_trn, validation_data=(X_val_encoded, y_val), epochs=self.epochs, batch_size=self.batch_size)\n",
        "            \n",
        "            self.models.append(model)\n",
        "\n",
        "                    \n",
        "    def predict(self, X):\n",
        "        \n",
        "        X_test_encoded = self.encode(X['tweet_cleaned'].str.lower())\n",
        "        y_pred = np.zeros((X_test_encoded[0].shape[0], 5))\n",
        "\n",
        "        for model in self.models:\n",
        "            y_pred += model.predict(X_test_encoded) / len(self.models)\n",
        "\n",
        "        return y_pred"
      ],
      "execution_count": null,
      "outputs": []
    },
    {
      "cell_type": "code",
      "metadata": {
        "colab": {
          "base_uri": "https://localhost:8080/",
          "height": 722
        },
        "id": "1tVBnkMi10nW",
        "outputId": "807a84e2-0a3f-4aec-ee49-31f1e90fa170"
      },
      "source": [
        "df_train.head()"
      ],
      "execution_count": null,
      "outputs": [
        {
          "output_type": "execute_result",
          "data": {
            "text/html": [
              "<div>\n",
              "<style scoped>\n",
              "    .dataframe tbody tr th:only-of-type {\n",
              "        vertical-align: middle;\n",
              "    }\n",
              "\n",
              "    .dataframe tbody tr th {\n",
              "        vertical-align: top;\n",
              "    }\n",
              "\n",
              "    .dataframe thead th {\n",
              "        text-align: right;\n",
              "    }\n",
              "</style>\n",
              "<table border=\"1\" class=\"dataframe\">\n",
              "  <thead>\n",
              "    <tr style=\"text-align: right;\">\n",
              "      <th></th>\n",
              "      <th>Tweet_ID</th>\n",
              "      <th>tweet</th>\n",
              "      <th>type</th>\n",
              "      <th>word_count</th>\n",
              "      <th>unique_word_count</th>\n",
              "      <th>stop_word_count</th>\n",
              "      <th>url_count</th>\n",
              "      <th>mean_word_length</th>\n",
              "      <th>char_count</th>\n",
              "      <th>punctuation_count</th>\n",
              "      <th>tweet_cleaned</th>\n",
              "    </tr>\n",
              "  </thead>\n",
              "  <tbody>\n",
              "    <tr>\n",
              "      <th>0</th>\n",
              "      <td>ID_0022DWKP</td>\n",
              "      <td>Had a dream i got raped last night. By a guy i...</td>\n",
              "      <td>4</td>\n",
              "      <td>45</td>\n",
              "      <td>40</td>\n",
              "      <td>26</td>\n",
              "      <td>0</td>\n",
              "      <td>3.533333</td>\n",
              "      <td>203</td>\n",
              "      <td>3</td>\n",
              "      <td>Had a dream i got raped last night .  By a guy...</td>\n",
              "    </tr>\n",
              "    <tr>\n",
              "      <th>1</th>\n",
              "      <td>ID_00395QYM</td>\n",
              "      <td>he thought the word raped means sex and told m...</td>\n",
              "      <td>4</td>\n",
              "      <td>21</td>\n",
              "      <td>20</td>\n",
              "      <td>9</td>\n",
              "      <td>0</td>\n",
              "      <td>3.809524</td>\n",
              "      <td>100</td>\n",
              "      <td>0</td>\n",
              "      <td>he thought the word raped means sex and told m...</td>\n",
              "    </tr>\n",
              "    <tr>\n",
              "      <th>2</th>\n",
              "      <td>ID_003EOSSF</td>\n",
              "      <td>She NOT TALKING TO ME I WAS RAPED BY 2 MEN 1 M...</td>\n",
              "      <td>4</td>\n",
              "      <td>24</td>\n",
              "      <td>23</td>\n",
              "      <td>13</td>\n",
              "      <td>0</td>\n",
              "      <td>3.375000</td>\n",
              "      <td>104</td>\n",
              "      <td>0</td>\n",
              "      <td>She NOT TALKING TO ME I WAS RAPED BY 2 MEN 1 M...</td>\n",
              "    </tr>\n",
              "    <tr>\n",
              "      <th>3</th>\n",
              "      <td>ID_004BBHOD</td>\n",
              "      <td>I was sexually abused for 3 years at age 4 to ...</td>\n",
              "      <td>4</td>\n",
              "      <td>61</td>\n",
              "      <td>50</td>\n",
              "      <td>29</td>\n",
              "      <td>0</td>\n",
              "      <td>3.557377</td>\n",
              "      <td>280</td>\n",
              "      <td>9</td>\n",
              "      <td>I was sexually abused for 3 years at age 4 to ...</td>\n",
              "    </tr>\n",
              "    <tr>\n",
              "      <th>4</th>\n",
              "      <td>ID_004F7516</td>\n",
              "      <td>Chessy Prout can do better by telling the trut...</td>\n",
              "      <td>4</td>\n",
              "      <td>52</td>\n",
              "      <td>44</td>\n",
              "      <td>22</td>\n",
              "      <td>0</td>\n",
              "      <td>4.365385</td>\n",
              "      <td>278</td>\n",
              "      <td>11</td>\n",
              "      <td>Chessy Prout can do better by telling the trut...</td>\n",
              "    </tr>\n",
              "  </tbody>\n",
              "</table>\n",
              "</div>"
            ],
            "text/plain": [
              "      Tweet_ID                                              tweet  type  word_count  unique_word_count  stop_word_count  url_count  mean_word_length  char_count  punctuation_count                                      tweet_cleaned\n",
              "0  ID_0022DWKP  Had a dream i got raped last night. By a guy i...     4          45                 40               26          0          3.533333         203                  3  Had a dream i got raped last night .  By a guy...\n",
              "1  ID_00395QYM  he thought the word raped means sex and told m...     4          21                 20                9          0          3.809524         100                  0  he thought the word raped means sex and told m...\n",
              "2  ID_003EOSSF  She NOT TALKING TO ME I WAS RAPED BY 2 MEN 1 M...     4          24                 23               13          0          3.375000         104                  0  She NOT TALKING TO ME I WAS RAPED BY 2 MEN 1 M...\n",
              "3  ID_004BBHOD  I was sexually abused for 3 years at age 4 to ...     4          61                 50               29          0          3.557377         280                  9  I was sexually abused for 3 years at age 4 to ...\n",
              "4  ID_004F7516  Chessy Prout can do better by telling the trut...     4          52                 44               22          0          4.365385         278                 11  Chessy Prout can do better by telling the trut..."
            ]
          },
          "metadata": {
            "tags": []
          },
          "execution_count": 19
        }
      ]
    },
    {
      "cell_type": "code",
      "metadata": {
        "colab": {
          "base_uri": "https://localhost:8080/"
        },
        "id": "1JScJDmwzw7n",
        "outputId": "9629a6d0-4f6e-4b92-a8cf-4db515c20a6e"
      },
      "source": [
        "#train\n",
        "clf = GBVDetector(bert_layer, max_seq_length=128, lr=0.0001, epochs=1, batch_size=64)\n",
        "\n",
        "clf.train(df_train)"
      ],
      "execution_count": null,
      "outputs": [
        {
          "output_type": "stream",
          "text": [
            "\n",
            "Fold 0\n",
            "\n",
            "496/496 [==============================] - 824s 2s/step - loss: 0.3643 - accuracy: 0.8894 - val_loss: 0.1718 - val_accuracy: 0.9607\n",
            "\n",
            "Fold 1\n",
            "\n",
            "496/496 [==============================] - 820s 2s/step - loss: 0.1849 - accuracy: 0.9479 - val_loss: 0.0755 - val_accuracy: 0.9759\n",
            "\n",
            "Fold 2\n",
            "\n",
            "496/496 [==============================] - 820s 2s/step - loss: 0.1150 - accuracy: 0.9646 - val_loss: 0.0508 - val_accuracy: 0.9840\n",
            "\n",
            "Fold 3\n",
            "\n",
            "496/496 [==============================] - 820s 2s/step - loss: 0.0929 - accuracy: 0.9709 - val_loss: 0.0470 - val_accuracy: 0.9858\n",
            "\n",
            "Fold 4\n",
            "\n",
            "496/496 [==============================] - 819s 2s/step - loss: 0.0742 - accuracy: 0.9794 - val_loss: 0.0396 - val_accuracy: 0.9881\n"
          ],
          "name": "stdout"
        }
      ]
    },
    {
      "cell_type": "code",
      "metadata": {
        "id": "5KpGknydyUsa"
      },
      "source": [
        "y_pred = clf.predict(df_test)"
      ],
      "execution_count": null,
      "outputs": []
    },
    {
      "cell_type": "code",
      "metadata": {
        "id": "ac-TtVm3y97J",
        "colab": {
          "base_uri": "https://localhost:8080/"
        },
        "outputId": "403fac8e-1653-4697-ac9b-9cca573d30f0"
      },
      "source": [
        "y_pred"
      ],
      "execution_count": null,
      "outputs": [
        {
          "output_type": "execute_result",
          "data": {
            "text/plain": [
              "array([[0.30198131, 0.25112323, 0.22739491, 0.40421669, 0.93243764],\n",
              "       [0.55376435, 0.27838741, 0.30839808, 0.48802634, 0.82680137],\n",
              "       [0.58609284, 0.37785996, 0.29285473, 0.33619948, 0.84248178],\n",
              "       ...,\n",
              "       [0.42325608, 0.2223551 , 0.33703112, 0.28072935, 0.96654077],\n",
              "       [0.43994587, 0.23350284, 0.24356303, 0.20479442, 0.95520465],\n",
              "       [0.39235706, 0.37539535, 0.25974469, 0.42665473, 0.93552123]])"
            ]
          },
          "metadata": {
            "tags": []
          },
          "execution_count": 61
        }
      ]
    },
    {
      "cell_type": "code",
      "metadata": {
        "id": "Mw7HUOQsRCig"
      },
      "source": [
        "pred=pd.DataFrame(y_pred,columns=['Harmful_Traditional_practice','Physical_violence','economic_violence','emotional_violence','sexual_violence'])"
      ],
      "execution_count": null,
      "outputs": []
    },
    {
      "cell_type": "code",
      "metadata": {
        "id": "hPlWwZwPZ9L_"
      },
      "source": [
        "maxValueIndex = pred.idxmax(axis = 1)"
      ],
      "execution_count": null,
      "outputs": []
    },
    {
      "cell_type": "code",
      "metadata": {
        "id": "4efpYUBPdCd5"
      },
      "source": [
        "series=pd.DataFrame(np.array(maxValueIndex),columns=['type'])"
      ],
      "execution_count": null,
      "outputs": []
    },
    {
      "cell_type": "code",
      "metadata": {
        "colab": {
          "base_uri": "https://localhost:8080/",
          "height": 202
        },
        "id": "Hi6FhBUCdl6B",
        "outputId": "75725ac7-fca9-4736-ded1-065c93dee138"
      },
      "source": [
        "series.head()"
      ],
      "execution_count": null,
      "outputs": [
        {
          "output_type": "execute_result",
          "data": {
            "text/html": [
              "<div>\n",
              "<style scoped>\n",
              "    .dataframe tbody tr th:only-of-type {\n",
              "        vertical-align: middle;\n",
              "    }\n",
              "\n",
              "    .dataframe tbody tr th {\n",
              "        vertical-align: top;\n",
              "    }\n",
              "\n",
              "    .dataframe thead th {\n",
              "        text-align: right;\n",
              "    }\n",
              "</style>\n",
              "<table border=\"1\" class=\"dataframe\">\n",
              "  <thead>\n",
              "    <tr style=\"text-align: right;\">\n",
              "      <th></th>\n",
              "      <th>type</th>\n",
              "    </tr>\n",
              "  </thead>\n",
              "  <tbody>\n",
              "    <tr>\n",
              "      <th>0</th>\n",
              "      <td>sexual_violence</td>\n",
              "    </tr>\n",
              "    <tr>\n",
              "      <th>1</th>\n",
              "      <td>sexual_violence</td>\n",
              "    </tr>\n",
              "    <tr>\n",
              "      <th>2</th>\n",
              "      <td>sexual_violence</td>\n",
              "    </tr>\n",
              "    <tr>\n",
              "      <th>3</th>\n",
              "      <td>sexual_violence</td>\n",
              "    </tr>\n",
              "    <tr>\n",
              "      <th>4</th>\n",
              "      <td>sexual_violence</td>\n",
              "    </tr>\n",
              "  </tbody>\n",
              "</table>\n",
              "</div>"
            ],
            "text/plain": [
              "              type\n",
              "0  sexual_violence\n",
              "1  sexual_violence\n",
              "2  sexual_violence\n",
              "3  sexual_violence\n",
              "4  sexual_violence"
            ]
          },
          "metadata": {
            "tags": []
          },
          "execution_count": 77
        }
      ]
    },
    {
      "cell_type": "code",
      "metadata": {
        "colab": {
          "base_uri": "https://localhost:8080/",
          "height": 662
        },
        "id": "aXgQd8cXYa5I",
        "outputId": "3f97d66b-07f0-448f-9b28-4ab7435fb230"
      },
      "source": [
        "pred.head(20)"
      ],
      "execution_count": null,
      "outputs": [
        {
          "output_type": "execute_result",
          "data": {
            "text/html": [
              "<div>\n",
              "<style scoped>\n",
              "    .dataframe tbody tr th:only-of-type {\n",
              "        vertical-align: middle;\n",
              "    }\n",
              "\n",
              "    .dataframe tbody tr th {\n",
              "        vertical-align: top;\n",
              "    }\n",
              "\n",
              "    .dataframe thead th {\n",
              "        text-align: right;\n",
              "    }\n",
              "</style>\n",
              "<table border=\"1\" class=\"dataframe\">\n",
              "  <thead>\n",
              "    <tr style=\"text-align: right;\">\n",
              "      <th></th>\n",
              "      <th>class_0</th>\n",
              "      <th>class_1</th>\n",
              "      <th>class_2</th>\n",
              "      <th>class_3</th>\n",
              "      <th>class_4</th>\n",
              "    </tr>\n",
              "  </thead>\n",
              "  <tbody>\n",
              "    <tr>\n",
              "      <th>0</th>\n",
              "      <td>0.301981</td>\n",
              "      <td>0.251123</td>\n",
              "      <td>0.227395</td>\n",
              "      <td>0.404217</td>\n",
              "      <td>0.932438</td>\n",
              "    </tr>\n",
              "    <tr>\n",
              "      <th>1</th>\n",
              "      <td>0.553764</td>\n",
              "      <td>0.278387</td>\n",
              "      <td>0.308398</td>\n",
              "      <td>0.488026</td>\n",
              "      <td>0.826801</td>\n",
              "    </tr>\n",
              "    <tr>\n",
              "      <th>2</th>\n",
              "      <td>0.586093</td>\n",
              "      <td>0.377860</td>\n",
              "      <td>0.292855</td>\n",
              "      <td>0.336199</td>\n",
              "      <td>0.842482</td>\n",
              "    </tr>\n",
              "    <tr>\n",
              "      <th>3</th>\n",
              "      <td>0.423910</td>\n",
              "      <td>0.233902</td>\n",
              "      <td>0.326646</td>\n",
              "      <td>0.296982</td>\n",
              "      <td>0.979658</td>\n",
              "    </tr>\n",
              "    <tr>\n",
              "      <th>4</th>\n",
              "      <td>0.311474</td>\n",
              "      <td>0.468690</td>\n",
              "      <td>0.390199</td>\n",
              "      <td>0.637210</td>\n",
              "      <td>0.855967</td>\n",
              "    </tr>\n",
              "    <tr>\n",
              "      <th>5</th>\n",
              "      <td>0.370248</td>\n",
              "      <td>0.277378</td>\n",
              "      <td>0.224915</td>\n",
              "      <td>0.220904</td>\n",
              "      <td>0.975708</td>\n",
              "    </tr>\n",
              "    <tr>\n",
              "      <th>6</th>\n",
              "      <td>0.354629</td>\n",
              "      <td>0.447552</td>\n",
              "      <td>0.310475</td>\n",
              "      <td>0.487167</td>\n",
              "      <td>0.852003</td>\n",
              "    </tr>\n",
              "    <tr>\n",
              "      <th>7</th>\n",
              "      <td>0.255479</td>\n",
              "      <td>0.537160</td>\n",
              "      <td>0.454964</td>\n",
              "      <td>0.660460</td>\n",
              "      <td>0.541010</td>\n",
              "    </tr>\n",
              "    <tr>\n",
              "      <th>8</th>\n",
              "      <td>0.377214</td>\n",
              "      <td>0.264445</td>\n",
              "      <td>0.243130</td>\n",
              "      <td>0.240897</td>\n",
              "      <td>0.978513</td>\n",
              "    </tr>\n",
              "    <tr>\n",
              "      <th>9</th>\n",
              "      <td>0.459658</td>\n",
              "      <td>0.265291</td>\n",
              "      <td>0.262312</td>\n",
              "      <td>0.302525</td>\n",
              "      <td>0.970999</td>\n",
              "    </tr>\n",
              "    <tr>\n",
              "      <th>10</th>\n",
              "      <td>0.319442</td>\n",
              "      <td>0.223400</td>\n",
              "      <td>0.239141</td>\n",
              "      <td>0.227551</td>\n",
              "      <td>0.976447</td>\n",
              "    </tr>\n",
              "    <tr>\n",
              "      <th>11</th>\n",
              "      <td>0.391705</td>\n",
              "      <td>0.213377</td>\n",
              "      <td>0.245493</td>\n",
              "      <td>0.259655</td>\n",
              "      <td>0.978012</td>\n",
              "    </tr>\n",
              "    <tr>\n",
              "      <th>12</th>\n",
              "      <td>0.323099</td>\n",
              "      <td>0.235307</td>\n",
              "      <td>0.230461</td>\n",
              "      <td>0.261743</td>\n",
              "      <td>0.982836</td>\n",
              "    </tr>\n",
              "    <tr>\n",
              "      <th>13</th>\n",
              "      <td>0.275076</td>\n",
              "      <td>0.607673</td>\n",
              "      <td>0.340137</td>\n",
              "      <td>0.584866</td>\n",
              "      <td>0.577726</td>\n",
              "    </tr>\n",
              "    <tr>\n",
              "      <th>14</th>\n",
              "      <td>0.418255</td>\n",
              "      <td>0.229055</td>\n",
              "      <td>0.271926</td>\n",
              "      <td>0.226129</td>\n",
              "      <td>0.978567</td>\n",
              "    </tr>\n",
              "    <tr>\n",
              "      <th>15</th>\n",
              "      <td>0.394959</td>\n",
              "      <td>0.260248</td>\n",
              "      <td>0.263143</td>\n",
              "      <td>0.236133</td>\n",
              "      <td>0.984305</td>\n",
              "    </tr>\n",
              "    <tr>\n",
              "      <th>16</th>\n",
              "      <td>0.427820</td>\n",
              "      <td>0.202099</td>\n",
              "      <td>0.306367</td>\n",
              "      <td>0.221674</td>\n",
              "      <td>0.980011</td>\n",
              "    </tr>\n",
              "    <tr>\n",
              "      <th>17</th>\n",
              "      <td>0.342985</td>\n",
              "      <td>0.540927</td>\n",
              "      <td>0.249454</td>\n",
              "      <td>0.562585</td>\n",
              "      <td>0.679467</td>\n",
              "    </tr>\n",
              "    <tr>\n",
              "      <th>18</th>\n",
              "      <td>0.285829</td>\n",
              "      <td>0.606865</td>\n",
              "      <td>0.388783</td>\n",
              "      <td>0.709332</td>\n",
              "      <td>0.494266</td>\n",
              "    </tr>\n",
              "    <tr>\n",
              "      <th>19</th>\n",
              "      <td>0.382966</td>\n",
              "      <td>0.234503</td>\n",
              "      <td>0.266712</td>\n",
              "      <td>0.225672</td>\n",
              "      <td>0.983848</td>\n",
              "    </tr>\n",
              "  </tbody>\n",
              "</table>\n",
              "</div>"
            ],
            "text/plain": [
              "     class_0   class_1   class_2   class_3   class_4\n",
              "0   0.301981  0.251123  0.227395  0.404217  0.932438\n",
              "1   0.553764  0.278387  0.308398  0.488026  0.826801\n",
              "2   0.586093  0.377860  0.292855  0.336199  0.842482\n",
              "3   0.423910  0.233902  0.326646  0.296982  0.979658\n",
              "4   0.311474  0.468690  0.390199  0.637210  0.855967\n",
              "5   0.370248  0.277378  0.224915  0.220904  0.975708\n",
              "6   0.354629  0.447552  0.310475  0.487167  0.852003\n",
              "7   0.255479  0.537160  0.454964  0.660460  0.541010\n",
              "8   0.377214  0.264445  0.243130  0.240897  0.978513\n",
              "9   0.459658  0.265291  0.262312  0.302525  0.970999\n",
              "10  0.319442  0.223400  0.239141  0.227551  0.976447\n",
              "11  0.391705  0.213377  0.245493  0.259655  0.978012\n",
              "12  0.323099  0.235307  0.230461  0.261743  0.982836\n",
              "13  0.275076  0.607673  0.340137  0.584866  0.577726\n",
              "14  0.418255  0.229055  0.271926  0.226129  0.978567\n",
              "15  0.394959  0.260248  0.263143  0.236133  0.984305\n",
              "16  0.427820  0.202099  0.306367  0.221674  0.980011\n",
              "17  0.342985  0.540927  0.249454  0.562585  0.679467\n",
              "18  0.285829  0.606865  0.388783  0.709332  0.494266\n",
              "19  0.382966  0.234503  0.266712  0.225672  0.983848"
            ]
          },
          "metadata": {
            "tags": []
          },
          "execution_count": 47
        }
      ]
    },
    {
      "cell_type": "code",
      "metadata": {
        "id": "IW0XK_K_Yc0g"
      },
      "source": [
        "pred.to_csv('predicted.csv',index=False)"
      ],
      "execution_count": null,
      "outputs": []
    },
    {
      "cell_type": "code",
      "metadata": {
        "id": "OsA6qA1jZQO5"
      },
      "source": [
        "submit=pd.DataFrame(data={'Tweet_ID':np.array(ss['Tweet_ID']),'type':np.array(series['type'])})"
      ],
      "execution_count": null,
      "outputs": []
    },
    {
      "cell_type": "code",
      "metadata": {
        "id": "OY3fqD8nmuy-"
      },
      "source": [
        "submit.to_csv('koubrah.csv',index=False)"
      ],
      "execution_count": null,
      "outputs": []
    },
    {
      "cell_type": "code",
      "metadata": {
        "colab": {
          "base_uri": "https://localhost:8080/",
          "height": 414
        },
        "id": "KiRBsabUmoew",
        "outputId": "9b3aa83b-2d23-4861-efda-ad5bc1e36f8f"
      },
      "source": [
        "submit"
      ],
      "execution_count": null,
      "outputs": [
        {
          "output_type": "execute_result",
          "data": {
            "text/html": [
              "<div>\n",
              "<style scoped>\n",
              "    .dataframe tbody tr th:only-of-type {\n",
              "        vertical-align: middle;\n",
              "    }\n",
              "\n",
              "    .dataframe tbody tr th {\n",
              "        vertical-align: top;\n",
              "    }\n",
              "\n",
              "    .dataframe thead th {\n",
              "        text-align: right;\n",
              "    }\n",
              "</style>\n",
              "<table border=\"1\" class=\"dataframe\">\n",
              "  <thead>\n",
              "    <tr style=\"text-align: right;\">\n",
              "      <th></th>\n",
              "      <th>Tweet_ID</th>\n",
              "      <th>type</th>\n",
              "    </tr>\n",
              "  </thead>\n",
              "  <tbody>\n",
              "    <tr>\n",
              "      <th>0</th>\n",
              "      <td>ID_0095QL4S</td>\n",
              "      <td>sexual_violence</td>\n",
              "    </tr>\n",
              "    <tr>\n",
              "      <th>1</th>\n",
              "      <td>ID_00DREW5O</td>\n",
              "      <td>sexual_violence</td>\n",
              "    </tr>\n",
              "    <tr>\n",
              "      <th>2</th>\n",
              "      <td>ID_00E9F5X9</td>\n",
              "      <td>sexual_violence</td>\n",
              "    </tr>\n",
              "    <tr>\n",
              "      <th>3</th>\n",
              "      <td>ID_00G9OSKZ</td>\n",
              "      <td>sexual_violence</td>\n",
              "    </tr>\n",
              "    <tr>\n",
              "      <th>4</th>\n",
              "      <td>ID_00HU96U6</td>\n",
              "      <td>sexual_violence</td>\n",
              "    </tr>\n",
              "    <tr>\n",
              "      <th>...</th>\n",
              "      <td>...</td>\n",
              "      <td>...</td>\n",
              "    </tr>\n",
              "    <tr>\n",
              "      <th>15576</th>\n",
              "      <td>ID_ZZR1D21T</td>\n",
              "      <td>sexual_violence</td>\n",
              "    </tr>\n",
              "    <tr>\n",
              "      <th>15577</th>\n",
              "      <td>ID_ZZSQF54Y</td>\n",
              "      <td>sexual_violence</td>\n",
              "    </tr>\n",
              "    <tr>\n",
              "      <th>15578</th>\n",
              "      <td>ID_ZZTN5126</td>\n",
              "      <td>sexual_violence</td>\n",
              "    </tr>\n",
              "    <tr>\n",
              "      <th>15579</th>\n",
              "      <td>ID_ZZWS0XZZ</td>\n",
              "      <td>sexual_violence</td>\n",
              "    </tr>\n",
              "    <tr>\n",
              "      <th>15580</th>\n",
              "      <td>ID_ZZZE5A5Q</td>\n",
              "      <td>sexual_violence</td>\n",
              "    </tr>\n",
              "  </tbody>\n",
              "</table>\n",
              "<p>15581 rows × 2 columns</p>\n",
              "</div>"
            ],
            "text/plain": [
              "          Tweet_ID             type\n",
              "0      ID_0095QL4S  sexual_violence\n",
              "1      ID_00DREW5O  sexual_violence\n",
              "2      ID_00E9F5X9  sexual_violence\n",
              "3      ID_00G9OSKZ  sexual_violence\n",
              "4      ID_00HU96U6  sexual_violence\n",
              "...            ...              ...\n",
              "15576  ID_ZZR1D21T  sexual_violence\n",
              "15577  ID_ZZSQF54Y  sexual_violence\n",
              "15578  ID_ZZTN5126  sexual_violence\n",
              "15579  ID_ZZWS0XZZ  sexual_violence\n",
              "15580  ID_ZZZE5A5Q  sexual_violence\n",
              "\n",
              "[15581 rows x 2 columns]"
            ]
          },
          "metadata": {
            "tags": []
          },
          "execution_count": 86
        }
      ]
    },
    {
      "cell_type": "code",
      "metadata": {
        "colab": {
          "base_uri": "https://localhost:8080/",
          "height": 202
        },
        "id": "1qpd5dZBlUKJ",
        "outputId": "3f01f4c0-e4a8-4a0f-b18b-1eb227f597ff"
      },
      "source": [
        "ss.head()"
      ],
      "execution_count": null,
      "outputs": [
        {
          "output_type": "execute_result",
          "data": {
            "text/html": [
              "<div>\n",
              "<style scoped>\n",
              "    .dataframe tbody tr th:only-of-type {\n",
              "        vertical-align: middle;\n",
              "    }\n",
              "\n",
              "    .dataframe tbody tr th {\n",
              "        vertical-align: top;\n",
              "    }\n",
              "\n",
              "    .dataframe thead th {\n",
              "        text-align: right;\n",
              "    }\n",
              "</style>\n",
              "<table border=\"1\" class=\"dataframe\">\n",
              "  <thead>\n",
              "    <tr style=\"text-align: right;\">\n",
              "      <th></th>\n",
              "      <th>Tweet_ID</th>\n",
              "      <th>type</th>\n",
              "    </tr>\n",
              "  </thead>\n",
              "  <tbody>\n",
              "    <tr>\n",
              "      <th>0</th>\n",
              "      <td>ID_0095QL4S</td>\n",
              "      <td>sexual_violence</td>\n",
              "    </tr>\n",
              "    <tr>\n",
              "      <th>1</th>\n",
              "      <td>ID_00DREW5O</td>\n",
              "      <td>sexual_violence</td>\n",
              "    </tr>\n",
              "    <tr>\n",
              "      <th>2</th>\n",
              "      <td>ID_00E9F5X9</td>\n",
              "      <td>sexual_violence</td>\n",
              "    </tr>\n",
              "    <tr>\n",
              "      <th>3</th>\n",
              "      <td>ID_00G9OSKZ</td>\n",
              "      <td>sexual_violence</td>\n",
              "    </tr>\n",
              "    <tr>\n",
              "      <th>4</th>\n",
              "      <td>ID_00HU96U6</td>\n",
              "      <td>sexual_violence</td>\n",
              "    </tr>\n",
              "  </tbody>\n",
              "</table>\n",
              "</div>"
            ],
            "text/plain": [
              "      Tweet_ID             type\n",
              "0  ID_0095QL4S  sexual_violence\n",
              "1  ID_00DREW5O  sexual_violence\n",
              "2  ID_00E9F5X9  sexual_violence\n",
              "3  ID_00G9OSKZ  sexual_violence\n",
              "4  ID_00HU96U6  sexual_violence"
            ]
          },
          "metadata": {
            "tags": []
          },
          "execution_count": 84
        }
      ]
    },
    {
      "cell_type": "code",
      "metadata": {
        "id": "__Dvz6WdlV9x"
      },
      "source": [
        "ss.to_csv('koubrah.csv',index=False)"
      ],
      "execution_count": null,
      "outputs": []
    },
    {
      "cell_type": "code",
      "metadata": {
        "id": "83gYZNxslsUO"
      },
      "source": [
        ""
      ],
      "execution_count": null,
      "outputs": []
    }
  ]
}